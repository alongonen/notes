{
 "cells": [
  {
   "cell_type": "code",
   "execution_count": 1,
   "id": "earned-crisis",
   "metadata": {},
   "outputs": [
    {
     "name": "stdout",
     "output_type": "stream",
     "text": [
      "/home/gk922433/PycharmProjects/perturbx_remote\n"
     ]
    }
   ],
   "source": [
    "%load_ext autoreload\n",
    "%autoreload 2\n",
    "\n",
    "%matplotlib inline\n",
    "%config InlineBackend.figure_format='retina'\n",
    "\n",
    "%cd /home/gk922433/PycharmProjects/perturbx_remote\n",
    "!export PYTHONPATH=$(pwd)\n",
    "\n",
    "from matplotlib import rcParams\n",
    "# Set scanpy figure size.\n",
    "rcParams[\"figure.figsize\"] = 6, 6"
   ]
  },
  {
   "cell_type": "code",
   "execution_count": 2,
   "id": "amateur-lease",
   "metadata": {},
   "outputs": [],
   "source": [
    "import os\n",
    "from itertools import product\n",
    "import random\n",
    "import numpy as np\n",
    "import scanpy as sc\n",
    "from sklearn.preprocessing import OneHotEncoder\n",
    "\n",
    "from aiml_perturbx.utils.adata import read_adata_mixseq\n",
    "from aiml_perturbx.utils.plot import get_color, plot_cov, plot_latent, plot_umap, plot_heatmap, plot_cor, plot_anno_heatmp"
   ]
  },
  {
   "cell_type": "code",
   "execution_count": 3,
   "id": "absent-score",
   "metadata": {},
   "outputs": [],
   "source": [
    "batch_dict = {\n",
    "    \"experiment1\": [\n",
    "        \"DMSO_6hr_expt1\",\n",
    "        \"DMSO_24hr_expt1\",\n",
    "        \"Idasanutlin_6hr_expt1\",\n",
    "        \"Idasanutlin_24hr_expt1\",\n",
    "#         \"Trametinib_6hr_expt1\",\n",
    "#         \"Trametinib_24hr_expt1\",\n",
    "        \"Bortezomib_6hr_expt1\",\n",
    "        \"Bortezomib_24hr_expt1\",\n",
    "    ],\n",
    "    \"experiment3\": [\n",
    "        \"DMSO_24hr_expt3\",\n",
    "        \"BRD3379_24hr_expt3\",\n",
    "        \"Dabrafenib_24hr_expt3\",\n",
    "#         \"Navitoclax_24hr_expt3\",\n",
    "        \"Trametinib_24hr_expt3\",\n",
    "    ],\n",
    "    \"experiment10\": [\n",
    "        \"DMSO_expt10\",\n",
    "        \"Everolimus_expt10\",\n",
    "        \"Afatinib_expt10\",\n",
    "        \"Taselisib_expt10\",\n",
    "        \"AZD5591_expt10\",\n",
    "        \"JQ1_expt10\",\n",
    "        \"Gemcitabine_expt10\",\n",
    "        \"Trametinib_expt10\",\n",
    "        \"Prexasertib_expt10\",\n",
    "    ]\n",
    "}\n",
    "mixseq_path = \"/hpc/aiml/upt/causality_data/mixseq\""
   ]
  },
  {
   "cell_type": "code",
   "execution_count": 4,
   "id": "detected-concentration",
   "metadata": {},
   "outputs": [
    {
     "name": "stderr",
     "output_type": "stream",
     "text": [
      "/home/gk922433/.conda/envs/aiml-perturbx/lib/python3.8/site-packages/anndata/_core/anndata.py:1785: FutureWarning: X.dtype being converted to np.float32 from float64. In the next version of anndata (0.9) conversion will not be automatic. Pass dtype explicitly to avoid this warning. Pass `AnnData(X, dtype=X.dtype, ...)` to get the future behavour.\n",
      "  [AnnData(sparse.csr_matrix(a.shape), obs=a.obs) for a in all_adatas],\n"
     ]
    }
   ],
   "source": [
    "batch_list = batch_dict[\"experiment3\"]\n",
    "adata = read_adata_mixseq(batch_list, mixseq_path)"
   ]
  },
  {
   "cell_type": "code",
   "execution_count": 5,
   "id": "arabic-graham",
   "metadata": {},
   "outputs": [
    {
     "data": {
      "text/plain": [
       "97"
      ]
     },
     "execution_count": 5,
     "metadata": {},
     "output_type": "execute_result"
    }
   ],
   "source": [
    "len(adata.obs['celltype'].unique())"
   ]
  },
  {
   "cell_type": "code",
   "execution_count": 6,
   "id": "sufficient-perry",
   "metadata": {},
   "outputs": [],
   "source": [
    "sc.pp.normalize_per_cell(adata)\n",
    "sc.pp.log1p(adata)\n",
    "sc.pp.highly_variable_genes(adata, n_top_genes=5000, subset=True)"
   ]
  },
  {
   "cell_type": "code",
   "execution_count": 7,
   "id": "quiet-actress",
   "metadata": {},
   "outputs": [],
   "source": [
    "attr_enc_celltype = OneHotEncoder()\n",
    "attr_enc_perturbation = OneHotEncoder()\n",
    "adata.obsm[\"attr_celltype\"] = np.array(attr_enc_celltype.fit_transform(\n",
    "    adata.obs[[\"celltype\"]]\n",
    ").todense())\n",
    "adata.obsm[\"attr_perturbation\"] = np.array(attr_enc_perturbation.fit_transform(\n",
    "    adata.obs[[\"perturbation\"]]\n",
    ").todense())\n",
    "adata.uns[\"attr_enc_celltype\"] = attr_enc_celltype.categories_\n",
    "adata.uns[\"attr_enc_perturbation\"] = attr_enc_perturbation.categories_"
   ]
  },
  {
   "cell_type": "code",
   "execution_count": 9,
   "id": "decreased-style",
   "metadata": {},
   "outputs": [],
   "source": [
    "# train_hold_schemas = {}  # dictionary of tuples for different train-hold schemas.\n",
    "# train_hold_schemas[\"hold1\"] = ['DKMG_CENTRAL_NERVOUS_SYSTEM', 'NCIH226_LUNG', 'COLO680N_OESOPHAGUS', 'RCM1_LARGE_INTESTINE', 'SQ1_LUNG', 'BICR31_UPPER_AERODIGESTIVE_TRACT']\n",
    "# train_hold_schemas[\"hold2\"] = ['DKMG_CENTRAL_NERVOUS_SYSTEM', 'NCIH226_LUNG', 'COLO680N_OESOPHAGUS', 'RCM1_LARGE_INTESTINE', 'SQ1_LUNG', 'BICR31_UPPER_AERODIGESTIVE_TRACT', 'COV434_OVARY', 'UMUC1_URINARY_TRACT']\n",
    "# train_hold_schemas[\"hold3\"] = ['DKMG_CENTRAL_NERVOUS_SYSTEM', 'SNU1079_BILIARY_TRACT', 'COLO680N_OESOPHAGUS', 'RCM1_LARGE_INTESTINE', 'SQ1_LUNG', 'BICR31_UPPER_AERODIGESTIVE_TRACT']\n",
    "# train_hold_schemas[\"hold4\"] = ['DKMG_CENTRAL_NERVOUS_SYSTEM', 'SNU1079_BILIARY_TRACT', 'COLO680N_OESOPHAGUS', 'RCM1_LARGE_INTESTINE', 'SQ1_LUNG', 'BICR31_UPPER_AERODIGESTIVE_TRACT', 'COV434_OVARY', 'UMUC1_URINARY_TRACT']"
   ]
  },
  {
   "cell_type": "code",
   "execution_count": 8,
   "id": "radical-shooting",
   "metadata": {},
   "outputs": [],
   "source": [
    "# Split samples for trainning and OOD prediction based on attributes.\n",
    "celltypes = list(adata.obs[\"celltype\"].unique())\n",
    "random.shuffle(celltypes)\n",
    "\n",
    "train_hold_schemas = {}  # dictionary of tuples for different train-hold schemas.\n",
    "train_hold_schemas[\"hold1\"] = celltypes[:24]\n",
    "train_hold_schemas[\"hold2\"] = celltypes[24:48]\n",
    "train_hold_schemas[\"hold3\"] = celltypes[48:72]\n",
    "train_hold_schemas[\"hold4\"] = celltypes[72:]\n",
    "\n",
    "for train_hold, hold_celltypes in train_hold_schemas.items():\n",
    "    adata.obs.loc[:, train_hold] = \"train\"\n",
    "    for celltype in hold_celltypes:\n",
    "        hold_obs = adata.obs_names[adata.obs[\"celltype\"] == celltype]\n",
    "        adata.obs.loc[hold_obs, train_hold] = \"hold\""
   ]
  },
  {
   "cell_type": "code",
   "execution_count": 9,
   "id": "mature-vegetation",
   "metadata": {},
   "outputs": [],
   "source": [
    "mixseq_processed_dir = os.path.join(mixseq_path, \"processed\")\n",
    "if not os.path.isdir(mixseq_processed_dir):\n",
    "    os.mkdir(mixseq_processed_dir)\n",
    "\n",
    "adata.write_h5ad(os.path.join(mixseq_processed_dir, \"experiment3.h5ad\"))"
   ]
  }
 ],
 "metadata": {
  "kernelspec": {
   "display_name": "Environment (conda_aiml-perturbx)",
   "language": "python",
   "name": "conda_aiml-perturbx"
  },
  "language_info": {
   "codemirror_mode": {
    "name": "ipython",
    "version": 3
   },
   "file_extension": ".py",
   "mimetype": "text/x-python",
   "name": "python",
   "nbconvert_exporter": "python",
   "pygments_lexer": "ipython3",
   "version": "3.8.10"
  }
 },
 "nbformat": 4,
 "nbformat_minor": 5
}
